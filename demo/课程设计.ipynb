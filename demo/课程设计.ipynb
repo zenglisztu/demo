{
 "cells": [
  {
   "cell_type": "code",
   "execution_count": null,
   "metadata": {},
   "outputs": [],
   "source": [
    "import sys\n",
    "for line in sys.stdin:\n",
    "    a, b = line.split()\n",
    "    print(int(a) + int(b))"
   ]
  },
  {
   "cell_type": "code",
   "execution_count": 22,
   "metadata": {},
   "outputs": [],
   "source": [
    "detal_x = 0\n",
    "def xjc(x):\n",
    "    return x/7*360"
   ]
  },
  {
   "cell_type": "code",
   "execution_count": 12,
   "metadata": {},
   "outputs": [],
   "source": [
    "from math import cos, pi, sin"
   ]
  },
  {
   "cell_type": "code",
   "execution_count": 2,
   "metadata": {},
   "outputs": [
    {
     "name": "stdout",
     "output_type": "stream",
     "text": [
      "135.0\n",
      "135.0\n",
      "135.0\n",
      "111.6\n",
      "90.0\n",
      "90.0\n"
     ]
    }
   ],
   "source": [
    "x_ls = [7.5, 7.5, 7.5, 6.2, 5, 5,]\n",
    "for x in x_ls:\n",
    "    print(xjc(x))"
   ]
  },
  {
   "cell_type": "code",
   "execution_count": 21,
   "metadata": {},
   "outputs": [
    {
     "name": "stdout",
     "output_type": "stream",
     "text": [
      "-0.7071067811865475\n",
      "-0.7071067811865475\n",
      "-0.7071067811865475\n",
      "-0.36812455268467775\n",
      "6.123233995736766e-17\n",
      "6.123233995736766e-17\n"
     ]
    }
   ],
   "source": [
    "x_ls = [7.5, 7.5, 7.5, 6.2, 5, 5,]\n",
    "for x in x_ls:\n",
    "    print(cos(xjc(x)*(pi/180)))"
   ]
  },
  {
   "cell_type": "code",
   "execution_count": 20,
   "metadata": {},
   "outputs": [
    {
     "data": {
      "text/plain": [
       "-1.0"
      ]
     },
     "execution_count": 20,
     "metadata": {},
     "output_type": "execute_result"
    }
   ],
   "source": [
    "cos(180 *(pi/180))"
   ]
  },
  {
   "cell_type": "code",
   "execution_count": 17,
   "metadata": {},
   "outputs": [
    {
     "data": {
      "text/plain": [
       "0.7071067811865476"
      ]
     },
     "execution_count": 17,
     "metadata": {},
     "output_type": "execute_result"
    }
   ],
   "source": [
    "sin(45 *(pi/180))"
   ]
  },
  {
   "cell_type": "code",
   "execution_count": 23,
   "metadata": {},
   "outputs": [
    {
     "name": "stdout",
     "output_type": "stream",
     "text": [
      "334.2857142857143\n",
      "370.28571428571433\n",
      "370.28571428571433\n",
      "370.28571428571433\n",
      "370.28571428571433\n",
      "370.28571428571433\n"
     ]
    }
   ],
   "source": [
    "x_ls = [6.5, 7.2, 7.2, 7.2, 7.2, 7.2]\n",
    "for x in x_ls:\n",
    "    print(xjc(x))"
   ]
  },
  {
   "cell_type": "code",
   "execution_count": 24,
   "metadata": {},
   "outputs": [
    {
     "name": "stdout",
     "output_type": "stream",
     "text": [
      "0.900968867902419\n",
      "0.9839295885986296\n",
      "0.9839295885986296\n",
      "0.9839295885986296\n",
      "0.9839295885986296\n",
      "0.9839295885986296\n"
     ]
    }
   ],
   "source": [
    "for x in x_ls:\n",
    "    print(cos(xjc(x)*(pi/180)))"
   ]
  }
 ],
 "metadata": {
  "kernelspec": {
   "display_name": "Python 3",
   "language": "python",
   "name": "python3"
  },
  "language_info": {
   "codemirror_mode": {
    "name": "ipython",
    "version": 3
   },
   "file_extension": ".py",
   "mimetype": "text/x-python",
   "name": "python",
   "nbconvert_exporter": "python",
   "pygments_lexer": "ipython3",
   "version": "3.10.7"
  },
  "orig_nbformat": 4
 },
 "nbformat": 4,
 "nbformat_minor": 2
}
