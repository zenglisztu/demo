{
 "cells": [
  {
   "cell_type": "code",
   "execution_count": 3,
   "metadata": {},
   "outputs": [
    {
     "name": "stdout",
     "output_type": "stream",
     "text": [
      "0\n"
     ]
    }
   ],
   "source": [
    "\n",
    "import pdfplumber\n",
    "import xlwt\n",
    "# 读取源pdf文件\n",
    "pdf = pdfplumber.open(\"./2023518.pdf\")\n",
    "# 创建excel\n",
    "workboot = xlwt.Workbook()\n",
    "# 创建sheet\n",
    "sheet = workboot.add_sheet(\"Sheet1\")\n",
    "# 行计数\n",
    "i = 0\n",
    "# 循环读取pdf的每一页\n",
    "for page in pdf.pages:\n",
    "    # 读取表格\n",
    "    for table in page.extract_tables():\n",
    "        # 读取表格中的行\n",
    "        for row in table:\n",
    "            print(row)\n",
    "            for j in range(len(row)):\n",
    "                sheet.write(i,j,row[j])\n",
    "            i+=1\n",
    " \n",
    "pdf.close()\n",
    "print(i)\n",
    "workboot.save(\"./2023.xlsx\")"
   ]
  }
 ],
 "metadata": {
  "kernelspec": {
   "display_name": "Python 3",
   "language": "python",
   "name": "python3"
  },
  "language_info": {
   "codemirror_mode": {
    "name": "ipython",
    "version": 3
   },
   "file_extension": ".py",
   "mimetype": "text/x-python",
   "name": "python",
   "nbconvert_exporter": "python",
   "pygments_lexer": "ipython3",
   "version": "3.10.7"
  },
  "orig_nbformat": 4
 },
 "nbformat": 4,
 "nbformat_minor": 2
}
